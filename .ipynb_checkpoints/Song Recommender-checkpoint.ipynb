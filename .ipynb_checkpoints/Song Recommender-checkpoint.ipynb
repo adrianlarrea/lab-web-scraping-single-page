{
 "cells": [
  {
   "cell_type": "code",
   "execution_count": 1,
   "id": "0836d0c8",
   "metadata": {},
   "outputs": [],
   "source": [
    "import pandas as pd\n",
    "from bs4 import BeautifulSoup\n",
    "import requests\n",
    "import random"
   ]
  },
  {
   "cell_type": "code",
   "execution_count": 2,
   "id": "5edbc82a",
   "metadata": {},
   "outputs": [],
   "source": [
    "#1. import our dataframe. Steps in previous file (web scrape single Pop Vortex)\n",
    "data = pd.read_csv(\"Finalist.csv\")"
   ]
  },
  {
   "cell_type": "code",
   "execution_count": 4,
   "id": "9e45728f",
   "metadata": {},
   "outputs": [
    {
     "data": {
      "text/html": [
       "<div>\n",
       "<style scoped>\n",
       "    .dataframe tbody tr th:only-of-type {\n",
       "        vertical-align: middle;\n",
       "    }\n",
       "\n",
       "    .dataframe tbody tr th {\n",
       "        vertical-align: top;\n",
       "    }\n",
       "\n",
       "    .dataframe thead th {\n",
       "        text-align: right;\n",
       "    }\n",
       "</style>\n",
       "<table border=\"1\" class=\"dataframe\">\n",
       "  <thead>\n",
       "    <tr style=\"text-align: right;\">\n",
       "      <th></th>\n",
       "      <th>Unnamed: 0</th>\n",
       "      <th>artist</th>\n",
       "      <th>song</th>\n",
       "      <th>danceability</th>\n",
       "      <th>energy</th>\n",
       "      <th>key</th>\n",
       "      <th>loudness</th>\n",
       "      <th>mode</th>\n",
       "      <th>speechiness</th>\n",
       "      <th>acousticness</th>\n",
       "      <th>instrumentalness</th>\n",
       "      <th>liveness</th>\n",
       "      <th>valence</th>\n",
       "      <th>tempo</th>\n",
       "      <th>id</th>\n",
       "      <th>duration_ms</th>\n",
       "    </tr>\n",
       "  </thead>\n",
       "  <tbody>\n",
       "    <tr>\n",
       "      <th>0</th>\n",
       "      <td>0</td>\n",
       "      <td>Hozier</td>\n",
       "      <td>Take Me To Church</td>\n",
       "      <td>0.566</td>\n",
       "      <td>0.664</td>\n",
       "      <td>4</td>\n",
       "      <td>-5.303</td>\n",
       "      <td>0</td>\n",
       "      <td>0.0464</td>\n",
       "      <td>0.634</td>\n",
       "      <td>0.000000</td>\n",
       "      <td>0.116</td>\n",
       "      <td>0.437</td>\n",
       "      <td>128.945</td>\n",
       "      <td>7dS5EaCoMnN7DzlpT6aRn2</td>\n",
       "      <td>241688</td>\n",
       "    </tr>\n",
       "    <tr>\n",
       "      <th>1</th>\n",
       "      <td>1</td>\n",
       "      <td>Mike Posner</td>\n",
       "      <td>Cooler Than Me - Single Mix</td>\n",
       "      <td>0.768</td>\n",
       "      <td>0.820</td>\n",
       "      <td>7</td>\n",
       "      <td>-4.630</td>\n",
       "      <td>0</td>\n",
       "      <td>0.0474</td>\n",
       "      <td>0.179</td>\n",
       "      <td>0.000000</td>\n",
       "      <td>0.689</td>\n",
       "      <td>0.625</td>\n",
       "      <td>129.965</td>\n",
       "      <td>2V4bv1fNWfTcyRJKmej6Sj</td>\n",
       "      <td>213293</td>\n",
       "    </tr>\n",
       "    <tr>\n",
       "      <th>2</th>\n",
       "      <td>2</td>\n",
       "      <td>Tyler, The Creator</td>\n",
       "      <td>See You Again (feat. Kali Uchis)</td>\n",
       "      <td>0.558</td>\n",
       "      <td>0.559</td>\n",
       "      <td>6</td>\n",
       "      <td>-9.222</td>\n",
       "      <td>1</td>\n",
       "      <td>0.0959</td>\n",
       "      <td>0.371</td>\n",
       "      <td>0.000007</td>\n",
       "      <td>0.109</td>\n",
       "      <td>0.620</td>\n",
       "      <td>78.558</td>\n",
       "      <td>7KA4W4McWYRpgf0fWsJZWB</td>\n",
       "      <td>180387</td>\n",
       "    </tr>\n",
       "  </tbody>\n",
       "</table>\n",
       "</div>"
      ],
      "text/plain": [
       "   Unnamed: 0              artist                              song  \\\n",
       "0           0              Hozier                 Take Me To Church   \n",
       "1           1         Mike Posner       Cooler Than Me - Single Mix   \n",
       "2           2  Tyler, The Creator  See You Again (feat. Kali Uchis)   \n",
       "\n",
       "   danceability  energy  key  loudness  mode  speechiness  acousticness  \\\n",
       "0         0.566   0.664    4    -5.303     0       0.0464         0.634   \n",
       "1         0.768   0.820    7    -4.630     0       0.0474         0.179   \n",
       "2         0.558   0.559    6    -9.222     1       0.0959         0.371   \n",
       "\n",
       "   instrumentalness  liveness  valence    tempo                      id  \\\n",
       "0          0.000000     0.116    0.437  128.945  7dS5EaCoMnN7DzlpT6aRn2   \n",
       "1          0.000000     0.689    0.625  129.965  2V4bv1fNWfTcyRJKmej6Sj   \n",
       "2          0.000007     0.109    0.620   78.558  7KA4W4McWYRpgf0fWsJZWB   \n",
       "\n",
       "   duration_ms  \n",
       "0       241688  \n",
       "1       213293  \n",
       "2       180387  "
      ]
     },
     "execution_count": 4,
     "metadata": {},
     "output_type": "execute_result"
    }
   ],
   "source": [
    "data.head(3)       "
   ]
  },
  {
   "cell_type": "code",
   "execution_count": 5,
   "id": "a84bb114",
   "metadata": {},
   "outputs": [],
   "source": [
    "# 2. url: we start with the 'second' page. Show that you can start whenever you want\n",
    "url = \"https://www.popvortex.com/music/charts/top-100-songs.php\""
   ]
  },
  {
   "cell_type": "code",
   "execution_count": 6,
   "id": "4dab9408",
   "metadata": {},
   "outputs": [
    {
     "data": {
      "text/plain": [
       "200"
      ]
     },
     "execution_count": 6,
     "metadata": {},
     "output_type": "execute_result"
    }
   ],
   "source": [
    "# 3. download html with a get request\n",
    "response = requests.get(url)\n",
    "response.status_code # 200 status code means OK!"
   ]
  },
  {
   "cell_type": "code",
   "execution_count": 7,
   "id": "053b17ca",
   "metadata": {},
   "outputs": [],
   "source": [
    "# 4.1. parse html (create the 'soup')\n",
    "soup = BeautifulSoup(response.content, \"html.parser\")"
   ]
  },
  {
   "cell_type": "code",
   "execution_count": 8,
   "id": "4a6925b5",
   "metadata": {},
   "outputs": [],
   "source": [
    "#initialize empty lists\n",
    "top= []\n",
    "title = []\n",
    "artist= []\n",
    "\n",
    "\n",
    "# define the number of iterations of our for loop\n",
    "# by checking how many elements are in the retrieved result set\n",
    "# (this is equivalent but more robust than just explicitly defining 250 iterations)\n",
    "num_iter = len(soup.select(\"cite.title\"))\n",
    "\n",
    "tClist = soup.select(\"cite.title\")\n",
    "position = soup.select(\"p.chart-position\")\n",
    "artlist = soup.select(\"em.artist\")\n",
    "# iterate through the result set and retrive all the data\n",
    "for i in range(num_iter):\n",
    "    top.append(position[i].get_text())\n",
    "    title.append(tClist[i].get_text())\n",
    "    artist.append(artlist[i].get_text())"
   ]
  },
  {
   "cell_type": "code",
   "execution_count": 9,
   "id": "5dfb8b52",
   "metadata": {},
   "outputs": [],
   "source": [
    "\n",
    "top100songs = pd.DataFrame({\"Top\":top,\"Song Title\":title, \"Artist\":artist                   \n",
    "                      })"
   ]
  },
  {
   "cell_type": "code",
   "execution_count": 10,
   "id": "40e17fa7",
   "metadata": {},
   "outputs": [
    {
     "data": {
      "text/html": [
       "<div>\n",
       "<style scoped>\n",
       "    .dataframe tbody tr th:only-of-type {\n",
       "        vertical-align: middle;\n",
       "    }\n",
       "\n",
       "    .dataframe tbody tr th {\n",
       "        vertical-align: top;\n",
       "    }\n",
       "\n",
       "    .dataframe thead th {\n",
       "        text-align: right;\n",
       "    }\n",
       "</style>\n",
       "<table border=\"1\" class=\"dataframe\">\n",
       "  <thead>\n",
       "    <tr style=\"text-align: right;\">\n",
       "      <th></th>\n",
       "      <th>Top</th>\n",
       "      <th>Song Title</th>\n",
       "      <th>Artist</th>\n",
       "    </tr>\n",
       "  </thead>\n",
       "  <tbody>\n",
       "    <tr>\n",
       "      <th>0</th>\n",
       "      <td>1</td>\n",
       "      <td>VIBE (feat. Jimin of BTS)</td>\n",
       "      <td>TAEYANG</td>\n",
       "    </tr>\n",
       "    <tr>\n",
       "      <th>1</th>\n",
       "      <td>2</td>\n",
       "      <td>Flowers</td>\n",
       "      <td>Miley Cyrus</td>\n",
       "    </tr>\n",
       "    <tr>\n",
       "      <th>2</th>\n",
       "      <td>3</td>\n",
       "      <td>Shakira: Bzrp Music Sessions, Vol. 53</td>\n",
       "      <td>Bizarrap &amp; Shakira</td>\n",
       "    </tr>\n",
       "    <tr>\n",
       "      <th>3</th>\n",
       "      <td>4</td>\n",
       "      <td>Anti-Hero</td>\n",
       "      <td>Taylor Swift</td>\n",
       "    </tr>\n",
       "    <tr>\n",
       "      <th>4</th>\n",
       "      <td>5</td>\n",
       "      <td>Unholy</td>\n",
       "      <td>Sam Smith &amp; Kim Petras</td>\n",
       "    </tr>\n",
       "    <tr>\n",
       "      <th>...</th>\n",
       "      <td>...</td>\n",
       "      <td>...</td>\n",
       "      <td>...</td>\n",
       "    </tr>\n",
       "    <tr>\n",
       "      <th>93</th>\n",
       "      <td>94</td>\n",
       "      <td>Sure Thing</td>\n",
       "      <td>Miguel</td>\n",
       "    </tr>\n",
       "    <tr>\n",
       "      <th>94</th>\n",
       "      <td>95</td>\n",
       "      <td>Victoria’s Secret</td>\n",
       "      <td>Jax</td>\n",
       "    </tr>\n",
       "    <tr>\n",
       "      <th>95</th>\n",
       "      <td>96</td>\n",
       "      <td>Goo Goo Muck</td>\n",
       "      <td>The Cramps</td>\n",
       "    </tr>\n",
       "    <tr>\n",
       "      <th>96</th>\n",
       "      <td>97</td>\n",
       "      <td>Pick Me Up</td>\n",
       "      <td>Gabby Barrett</td>\n",
       "    </tr>\n",
       "    <tr>\n",
       "      <th>97</th>\n",
       "      <td>98</td>\n",
       "      <td>Going Yeezy</td>\n",
       "      <td>French Montana, DJ Drama &amp; Cheeze</td>\n",
       "    </tr>\n",
       "  </tbody>\n",
       "</table>\n",
       "<p>98 rows × 3 columns</p>\n",
       "</div>"
      ],
      "text/plain": [
       "   Top                             Song Title  \\\n",
       "0    1              VIBE (feat. Jimin of BTS)   \n",
       "1    2                                Flowers   \n",
       "2    3  Shakira: Bzrp Music Sessions, Vol. 53   \n",
       "3    4                              Anti-Hero   \n",
       "4    5                                 Unholy   \n",
       "..  ..                                    ...   \n",
       "93  94                             Sure Thing   \n",
       "94  95                      Victoria’s Secret   \n",
       "95  96                           Goo Goo Muck   \n",
       "96  97                             Pick Me Up   \n",
       "97  98                            Going Yeezy   \n",
       "\n",
       "                               Artist  \n",
       "0                             TAEYANG  \n",
       "1                         Miley Cyrus  \n",
       "2                  Bizarrap & Shakira  \n",
       "3                        Taylor Swift  \n",
       "4              Sam Smith & Kim Petras  \n",
       "..                                ...  \n",
       "93                             Miguel  \n",
       "94                                Jax  \n",
       "95                         The Cramps  \n",
       "96                      Gabby Barrett  \n",
       "97  French Montana, DJ Drama & Cheeze  \n",
       "\n",
       "[98 rows x 3 columns]"
      ]
     },
     "execution_count": 10,
     "metadata": {},
     "output_type": "execute_result"
    }
   ],
   "source": [
    "top100songs"
   ]
  },
  {
   "cell_type": "code",
   "execution_count": null,
   "id": "8b7ed488",
   "metadata": {},
   "outputs": [],
   "source": []
  },
  {
   "cell_type": "code",
   "execution_count": null,
   "id": "c38e09eb",
   "metadata": {},
   "outputs": [],
   "source": []
  },
  {
   "cell_type": "code",
   "execution_count": null,
   "id": "582fc286",
   "metadata": {},
   "outputs": [],
   "source": []
  },
  {
   "cell_type": "code",
   "execution_count": null,
   "id": "097e7ed8",
   "metadata": {},
   "outputs": [],
   "source": []
  },
  {
   "cell_type": "markdown",
   "id": "61cf12c5",
   "metadata": {},
   "source": [
    "PROVA"
   ]
  },
  {
   "cell_type": "markdown",
   "id": "e16670e4",
   "metadata": {},
   "source": [
    "import data"
   ]
  },
  {
   "cell_type": "code",
   "execution_count": null,
   "id": "10b67e2f",
   "metadata": {},
   "outputs": [],
   "source": [
    "import pandas as pd\n",
    "\n",
    "df_clustering = pd.read_csv('df_clustering.csv')\n",
    "merged_df_cluster = pd.read_csv('merged_df_cluster.csv')"
   ]
  },
  {
   "cell_type": "markdown",
   "id": "bf490452",
   "metadata": {},
   "source": [
    "Initialize Spotipy"
   ]
  },
  {
   "cell_type": "code",
   "execution_count": null,
   "id": "4a1f67bc",
   "metadata": {},
   "outputs": [],
   "source": [
    "import spotipy\n",
    "from spotipy.oauth2 import SpotifyClientCredentials\n",
    "\n",
    "secrets_file = open(\"secrets.txt\",\"r\")\n",
    "string = secrets_file.read()\n",
    "\n",
    "secrets_dict={}\n",
    "for line in string.split('\\n'):\n",
    "    if len(line) > 0:\n",
    "        secrets_dict[line.split(':')[0]]=line.split(':')[1]\n",
    "        \n",
    "#Initialize SpotiPy with user credentials\n",
    "sp = spotipy.Spotify(auth_manager=SpotifyClientCredentials(client_id=secrets_dict['clientid'],\n",
    "                                                           client_secret=secrets_dict['clientsecret']\n",
    "                                                           ))"
   ]
  },
  {
   "cell_type": "markdown",
   "id": "0a3665b7",
   "metadata": {},
   "source": [
    "Create Transformer"
   ]
  },
  {
   "cell_type": "code",
   "execution_count": null,
   "id": "0649a3c1",
   "metadata": {},
   "outputs": [],
   "source": [
    "from sklearn.preprocessing import StandardScaler\n",
    "transformer = StandardScaler().fit(df_clustering)\n",
    "X_prep = transformer.transform(df_clustering)\n",
    "pd.DataFrame(X_prep,columns=df_clustering.columns).head()"
   ]
  },
  {
   "cell_type": "code",
   "execution_count": null,
   "id": "065bc896",
   "metadata": {},
   "outputs": [],
   "source": [
    "kmeans = KMeans(n_clusters=10, random_state=1234)\n",
    "kmeans.fit(X_prep)\n",
    "\n",
    "clusters = kmeans.predict(X_prep)\n",
    "\n",
    "# Check the size of the clusters\n",
    "pd.Series(clusters).value_counts().sort_index()"
   ]
  },
  {
   "cell_type": "markdown",
   "id": "40e2c014",
   "metadata": {},
   "source": [
    "get top 100"
   ]
  },
  {
   "cell_type": "code",
   "execution_count": null,
   "id": "c60bf309",
   "metadata": {},
   "outputs": [],
   "source": [
    "import requests\n",
    "from bs4 import BeautifulSoup\n",
    "\n",
    "# Send an HTTP request to the webpage\n",
    "url = 'https://www.popvortex.com/music/charts/top-100-songs.php'\n",
    "page = requests.get(url)\n",
    "\n",
    "# Parse the HTML response\n",
    "soup = BeautifulSoup(page.text, 'html.parser')\n",
    "\n",
    "title = []\n",
    "artist = []\n",
    "\n",
    "num_iter = len(soup.select(\"div.chart-content.col-xs-12.col-sm-8 > p .title\"))\n",
    "\n",
    "titles = soup.select(\"div.chart-content.col-xs-12.col-sm-8 > p .title\")\n",
    "artists = soup.select(\"div.chart-content.col-xs-12.col-sm-8 > p .artist\")\n",
    "# iterate through the result set and retrive all the data\n",
    "for i in range(num_iter):\n",
    "    title.append(titles[i].get_text())\n",
    "    artist.append(artists[i].get_text())\n",
    "\n",
    "# each list becomes a column\n",
    "top100 = pd.DataFrame({\"title\":title,\n",
    "                       \"artist\":artist\n",
    "                      })\n",
    "top100"
   ]
  },
  {
   "cell_type": "markdown",
   "id": "33e60f30",
   "metadata": {},
   "source": [
    "FUNCTION"
   ]
  },
  {
   "cell_type": "code",
   "execution_count": null,
   "id": "9cdb48f5",
   "metadata": {},
   "outputs": [],
   "source": [
    "import time\n",
    "from pandas import json_normalize\n",
    "from sklearn.cluster import KMeans\n",
    "\n",
    "artist = input(\"Please enter the artist you are listening to? \", ).lower()\n",
    "title = input(\"What song are you listening to from this artist? \", ).lower()\n",
    "print(\"\\n\")\n",
    "music = [artist,title]\n",
    "\n",
    "if title in top100.values:\n",
    "    print(\"Try this song next!\")\n",
    "    print(\"\\n\")\n",
    "    print(str(top100.sample(n=1)).title())\n",
    "    \n",
    "elif music[0] in top100.values:\n",
    "    print(\"Try this song next!\")\n",
    "    print(\"\\n\")\n",
    "    print(str(top100.sample(n=1)).title())\n",
    "    \n",
    "elif title not in top100.values:\n",
    "    try:\n",
    "        \n",
    "        # Step 1 - Replace q with music[1] or title\n",
    "        results = sp.search(q='track:' + (''+ title +'') + ', artist:' + (''+ artist +''), type='track', limit=1)\n",
    "\n",
    "        # Step 2 - Find the uri of that song\n",
    "        song_uri = results['tracks']['items'][0]['uri']\n",
    "\n",
    "        # Step 3 - Find the uri on spotify\n",
    "        audio_features = sp.audio_features(song_uri)\n",
    "\n",
    "        # Step 4 - Get a dataframe\n",
    "        audio_features = json_normalize(audio_features)\n",
    "        audio_features = audio_features.drop([\"key\",\"mode\", 'id','type','track_href','uri', 'analysis_url'], axis = 1)\n",
    "\n",
    "        # Step 5 - Scale audio_features\n",
    "        scale_audio_features = transformer.transform(audio_features)\n",
    "\n",
    "        # Step 6 - Find the cluster\n",
    "        cluster = kmeans.predict(scale_audio_features)\n",
    "        cluster = pd.DataFrame(cluster)\n",
    "        cluster.columns = ['pred_cluster']\n",
    "\n",
    "        # Step 7 - Chose a random song from the cluster\n",
    "        pd.options.display.max_colwidth = 300\n",
    "        songs = pd.merge(left = cluster,\n",
    "                         right = merged_df_cluster,\n",
    "                         how = 'inner',\n",
    "                         left_on = 'pred_cluster',\n",
    "                         right_on = \"clusters\")\n",
    "        song_rec = songs[['artist', 'song', 'url']].sample(n=1)\n",
    "        artist = song_rec['artist'].to_string(index=False)\n",
    "        song = song_rec['song'].to_string(index=False)\n",
    "        link = song_rec['url'].to_string(index=False)\n",
    "        \n",
    "        print(\"We recommend the following song \" + song + \" by \" + artist + \".\" + \"\\n\" + \"Listen to it here: \" + \"\\n\"+ link + \" \")\n",
    "        \n",
    "    except:\n",
    "        print('\\nPlease try again. Maybe you misspelled something?')\n",
    "        time.sleep(5) \n",
    "else:\n",
    "    print(\"Sorry I cannot recommend you a song at the moment\")"
   ]
  },
  {
   "cell_type": "code",
   "execution_count": null,
   "id": "4d19fca7",
   "metadata": {},
   "outputs": [],
   "source": []
  },
  {
   "cell_type": "code",
   "execution_count": null,
   "id": "6478a125",
   "metadata": {},
   "outputs": [],
   "source": []
  },
  {
   "cell_type": "code",
   "execution_count": null,
   "id": "8c9d7f65",
   "metadata": {},
   "outputs": [],
   "source": []
  },
  {
   "cell_type": "code",
   "execution_count": null,
   "id": "9f86d6c5",
   "metadata": {},
   "outputs": [],
   "source": []
  },
  {
   "cell_type": "code",
   "execution_count": null,
   "id": "5c525ff5",
   "metadata": {},
   "outputs": [],
   "source": []
  },
  {
   "cell_type": "code",
   "execution_count": null,
   "id": "2878d1c4",
   "metadata": {},
   "outputs": [],
   "source": []
  },
  {
   "cell_type": "code",
   "execution_count": null,
   "id": "2467f0c3",
   "metadata": {},
   "outputs": [],
   "source": []
  },
  {
   "cell_type": "code",
   "execution_count": null,
   "id": "52fedf73",
   "metadata": {},
   "outputs": [],
   "source": []
  },
  {
   "cell_type": "code",
   "execution_count": null,
   "id": "b848dede",
   "metadata": {},
   "outputs": [],
   "source": []
  },
  {
   "cell_type": "code",
   "execution_count": null,
   "id": "4f725c1d",
   "metadata": {},
   "outputs": [],
   "source": []
  },
  {
   "cell_type": "code",
   "execution_count": null,
   "id": "a527c463",
   "metadata": {},
   "outputs": [],
   "source": []
  }
 ],
 "metadata": {
  "kernelspec": {
   "display_name": "Python 3 (ipykernel)",
   "language": "python",
   "name": "python3"
  },
  "language_info": {
   "codemirror_mode": {
    "name": "ipython",
    "version": 3
   },
   "file_extension": ".py",
   "mimetype": "text/x-python",
   "name": "python",
   "nbconvert_exporter": "python",
   "pygments_lexer": "ipython3",
   "version": "3.9.13"
  }
 },
 "nbformat": 4,
 "nbformat_minor": 5
}
