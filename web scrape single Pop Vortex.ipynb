{
 "cells": [
  {
   "cell_type": "markdown",
   "id": "7d0bfcb5",
   "metadata": {},
   "source": [
    "#  LAB 1 Web scrape Pop Vortex"
   ]
  },
  {
   "cell_type": "code",
   "execution_count": 1,
   "id": "2da40ef1",
   "metadata": {},
   "outputs": [],
   "source": [
    "# 1. import libraries\n",
    "import pandas as pd\n",
    "from bs4 import BeautifulSoup\n",
    "import requests"
   ]
  },
  {
   "cell_type": "code",
   "execution_count": 2,
   "id": "5f0dad8a",
   "metadata": {},
   "outputs": [],
   "source": [
    "# 2. url: we start with the 'second' page. Show that you can start whenever you want\n",
    "url = \"https://www.popvortex.com/music/charts/top-100-songs.php\""
   ]
  },
  {
   "cell_type": "code",
   "execution_count": 3,
   "id": "9a65a5af",
   "metadata": {},
   "outputs": [
    {
     "data": {
      "text/plain": [
       "200"
      ]
     },
     "execution_count": 3,
     "metadata": {},
     "output_type": "execute_result"
    }
   ],
   "source": [
    "# 3. download html with a get request\n",
    "response = requests.get(url)\n",
    "response.status_code # 200 status code means OK!"
   ]
  },
  {
   "cell_type": "code",
   "execution_count": 4,
   "id": "adf2409c",
   "metadata": {},
   "outputs": [],
   "source": [
    "# 4.1. parse html (create the 'soup')\n",
    "soup = BeautifulSoup(response.content, \"html.parser\")"
   ]
  },
  {
   "cell_type": "code",
   "execution_count": 5,
   "id": "d76dd2ef",
   "metadata": {},
   "outputs": [],
   "source": [
    "# 4.2. check that the html code looks like it should\n",
    "# soup"
   ]
  },
  {
   "cell_type": "code",
   "execution_count": 6,
   "id": "b758f6b4",
   "metadata": {},
   "outputs": [],
   "source": [
    "#4.3. Paste the Selector from the first movie title copied from Chrome Dev Tools\n",
    "\n",
    "# soup.select(\"body > div.container > div:nth-child(4) > div.col-xs-12.col-md-8 > div.chart-wrapper\")"
   ]
  },
  {
   "cell_type": "code",
   "execution_count": 7,
   "id": "c270862e",
   "metadata": {},
   "outputs": [],
   "source": [
    "# soup.select(\"cite.title\")"
   ]
  },
  {
   "cell_type": "code",
   "execution_count": 8,
   "id": "afb08b01",
   "metadata": {},
   "outputs": [
    {
     "data": {
      "text/plain": [
       "'Anti-Hero'"
      ]
     },
     "execution_count": 8,
     "metadata": {},
     "output_type": "execute_result"
    }
   ],
   "source": [
    "soup.select(\"cite.title\")[0].get_text()"
   ]
  },
  {
   "cell_type": "code",
   "execution_count": 9,
   "id": "49e232ae",
   "metadata": {},
   "outputs": [
    {
     "data": {
      "text/plain": [
       "'Taylor Swift'"
      ]
     },
     "execution_count": 9,
     "metadata": {},
     "output_type": "execute_result"
    }
   ],
   "source": [
    "soup.select(\"em.artist\")[0].get_text()"
   ]
  },
  {
   "cell_type": "code",
   "execution_count": 10,
   "id": "d9e2d7b3",
   "metadata": {},
   "outputs": [],
   "source": [
    "artlist = soup.select(\"em.artist\")"
   ]
  },
  {
   "cell_type": "code",
   "execution_count": 11,
   "id": "663a0489",
   "metadata": {},
   "outputs": [],
   "source": [
    "# artlist\n"
   ]
  },
  {
   "cell_type": "code",
   "execution_count": 12,
   "id": "b1b99ee9",
   "metadata": {},
   "outputs": [
    {
     "name": "stdout",
     "output_type": "stream",
     "text": [
      "['1', '2', '3', '4', '5', '6', '7', '8', '9', '10', '11', '12', '13', '14', '15', '16', '17', '18', '19', '20', '21', '22', '23', '24', '25', '26', '27', '28', '29', '30', '31', '32', '33', '34', '35', '36', '37', '38', '39', '40', '41', '42', '43', '44', '45', '46', '47', '48', '49', '50', '51', '52', '53', '54', '55', '56', '57', '58', '59', '60', '61', '62', '63', '64', '65', '66', '67', '68', '69', '70', '71', '72', '73', '74', '75', '76', '77', '78', '79', '80', '81', '82', '83', '84', '85', '86', '87', '88', '89', '90', '91', '92', '93', '94', '95', '96', '97', '98', '99', '100']\n",
      "['Anti-Hero', 'Unholy', 'Lift Me Up (From Black Panther: Wakanda Forever - Music From and Inspired By)', 'Hurts to Love You', 'Heart Like A Truck', 'Made You Look', 'Son Of A Sinner', 'wait in the truck', 'Temperature', 'Thought You Should Know', 'Separate Ways (Worlds Apart) [feat. Lzzy Hale]', 'Shakira: Bzrp Music Sessions, Vol. 53', \"I Ain't Worried\", 'Bloody Mary', \"I'm Good (Blue)\", 'Unstoppable', 'Thank God', \"Something in the Orange (Z&E's Version)\", 'Rock and a Hard Place', 'People Get Ready', 'As It Was', \"I Ain't a Bitch\", 'You Proof', 'Hold My Hand', 'The Oath', 'Calm Down', 'Players', 'New Punani', 'Forever', 'RZA', 'Igloo', 'Free Smoke (feat. BIG30)', 'Choose You', 'Addicted to You', 'Intro (feat. Cheeze)', \"Can't Stop Won't Stop (Remix) [feat. Kodak Black]\", 'Not So Bad', 'Chit Chat (feat. DJ Drama)', 'Project Baby (Remix)', 'Trench', 'One Thing At A Time', 'Going, Going, Gone', 'Mine', 'golden hour', \"Creepin'\", 'Cooler Than Me (Single Mix)', 'Wasted On You', 'Fall In Love', 'Hold Me Closer', 'The Kind of Love We Make', 'Ghost', \"I'm Good (Blue)\", 'What My World Spins Around', 'Gratitude', 'CUFF IT', 'Kill Bill', 'Going Yeezy', 'Under the Influence', 'Bebe Dame', 'NEED A FAVOR', 'Que Vuelvas', 'Tennessee Whiskey', 'Tishomingo', 'Daydream', 'About Damn Time', 'No Horse To Ride', 'Wreckage', 'Die For You', 'Shivers', 'She Had Me At Heads Carolina', 'Freeway Jam', 'Watermelon Moonshine', 'Yes I Do', 'Victoria’s Secret', 'Forget Me', 'Something in the Orange', 'How Do I Say Goodbye', 'Tennessee Orange', 'Build a Boat', 'Goodness of God (Live)', 'Goo Goo Muck', 'Until I Found You', 'Sure Thing', 'Just Pretend', 'Just Wanna Rock', 'Cold Heart (PNAU Remix)', 'Million Dollar Baby', \"Chasin' You\", 'Giddy Up!', 'Run Away to Mars', 'Sober', \"It's a Beautiful Day (Reprise)\", 'Escapism.', \"I'm a Believer\", \"Cause We've Ended As Lovers\", 'Bad Habit', \"I'll Be Waiting\", 'Hey There Delilah', 'Fenty', 'Yes I Do']\n",
      "['Taylor Swift', 'Sam Smith & Kim Petras', 'Rihanna', 'Nick Carter', 'Lainey Wilson', 'Meghan Trainor', 'Jelly Roll', 'HARDY & Lainey Wilson', 'Sean Paul', 'Morgan Wallen', 'Daughtry', 'Bizarrap & Shakira', 'OneRepublic', 'Lady Gaga', 'David Guetta & Bebe Rexha', 'Sia', 'Kane Brown & Katelyn Brown', 'Zach Bryan', 'Bailey Zimmerman', 'Jeff Beck & Rod Stewart', 'Harry Styles', 'Alaura Lynne', 'Morgan Wallen', 'Lady Gaga', 'Chinx, DJ Drama & French Montana', 'Rema & Selena Gomez', 'Coi Leray', 'French Montana, DJ Drama & Cheeze', 'French Montana, DJ Drama & Mr.Chicken', 'French Montana, DJ Drama & Benny the Butcher', 'French Montana, DJ Drama & Rob49', 'French Montana, DJ Drama & EST Gee', 'French Montana, DJ Drama & Jeremih', 'French Montana, DJ Drama & Cheeze', 'French Montana, Stove God Cooks & DJ Drama', 'King Combs, French Montana & DJ Drama', 'French Montana & DJ Drama', 'French Montana, Smooky MarGielaa & A$AP Rocky', 'Vory, DJ Drama & French Montana', 'FETISH', 'Morgan Wallen', 'Luke Combs', 'Bazzi', 'JVKE', 'Metro Boomin, The Weeknd & 21 Savage', 'Mike Posner', 'Morgan Wallen', 'Bailey Zimmerman', 'Elton John & Britney Spears', 'Luke Combs', 'Tom MacDonald', 'David Guetta & Bebe Rexha', 'Jordan Davis', 'Brandon Lake', 'Beyoncé', 'SZA', 'French Montana, DJ Drama & Cheeze', 'Chris Brown', 'Fuerza Regida & Grupo Frontera', 'Jelly Roll', 'Carin Leon & Grupo Frontera', 'Chris Stapleton', 'Zach Bryan', 'Lily Meola', 'Lizzo', 'Luke Grimes', 'Nate Smith', 'The Weeknd', 'Ed Sheeran', 'Cole Swindell', 'Jeff Beck', 'Lainey Wilson', 'French Montana', 'Jax', 'Lewis Capaldi', 'Zach Bryan', 'Dean Lewis', 'Megan Moroney', 'Colton Dixon', 'CeCe Winans', 'The Cramps', 'Stephen Sanchez', 'Miguel', 'Bad Omens', 'Lil Uzi Vert', 'Elton John & Dua Lipa', 'Ava Max', 'Morgan Wallen', 'Shania Twain', 'TALK', 'P!nk', 'The Kiffness & Rushawn', 'RAYE & 070 Shake', 'The Monkees', 'Jeff Beck', 'Steve Lacy', 'Cian Ducrot', \"Plain White T's\", 'French Montana & NAV', 'French Montana']\n"
     ]
    }
   ],
   "source": [
    "#initialize empty lists\n",
    "top= []\n",
    "title = []\n",
    "artist= []\n",
    "\n",
    "\n",
    "# define the number of iterations of our for loop\n",
    "# by checking how many elements are in the retrieved result set\n",
    "# (this is equivalent but more robust than just explicitly defining 250 iterations)\n",
    "num_iter = len(soup.select(\"cite.title\"))\n",
    "\n",
    "tClist = soup.select(\"cite.title\")\n",
    "position = soup.select(\"p.chart-position\")\n",
    "artlist = soup.select(\"em.artist\")\n",
    "# iterate through the result set and retrive all the data\n",
    "for i in range(num_iter):\n",
    "    top.append(position[i].get_text())\n",
    "    title.append(tClist[i].get_text())\n",
    "    artist.append(artlist[i].get_text())\n",
    "\n",
    "print(top)    \n",
    "print(title)\n",
    "print(artist)\n",
    "\n"
   ]
  },
  {
   "cell_type": "code",
   "execution_count": 13,
   "id": "9bd308fb",
   "metadata": {},
   "outputs": [],
   "source": [
    "\n",
    "top100songs = pd.DataFrame({\"Top\":top,\"Song Title\":title, \"Artist\":artist                   \n",
    "                      })"
   ]
  },
  {
   "cell_type": "code",
   "execution_count": 14,
   "id": "7f984f1f",
   "metadata": {},
   "outputs": [
    {
     "data": {
      "text/html": [
       "<div>\n",
       "<style scoped>\n",
       "    .dataframe tbody tr th:only-of-type {\n",
       "        vertical-align: middle;\n",
       "    }\n",
       "\n",
       "    .dataframe tbody tr th {\n",
       "        vertical-align: top;\n",
       "    }\n",
       "\n",
       "    .dataframe thead th {\n",
       "        text-align: right;\n",
       "    }\n",
       "</style>\n",
       "<table border=\"1\" class=\"dataframe\">\n",
       "  <thead>\n",
       "    <tr style=\"text-align: right;\">\n",
       "      <th></th>\n",
       "      <th>Top</th>\n",
       "      <th>Song Title</th>\n",
       "      <th>Artist</th>\n",
       "    </tr>\n",
       "  </thead>\n",
       "  <tbody>\n",
       "    <tr>\n",
       "      <th>0</th>\n",
       "      <td>1</td>\n",
       "      <td>Anti-Hero</td>\n",
       "      <td>Taylor Swift</td>\n",
       "    </tr>\n",
       "    <tr>\n",
       "      <th>1</th>\n",
       "      <td>2</td>\n",
       "      <td>Unholy</td>\n",
       "      <td>Sam Smith &amp; Kim Petras</td>\n",
       "    </tr>\n",
       "    <tr>\n",
       "      <th>2</th>\n",
       "      <td>3</td>\n",
       "      <td>Lift Me Up (From Black Panther: Wakanda Foreve...</td>\n",
       "      <td>Rihanna</td>\n",
       "    </tr>\n",
       "    <tr>\n",
       "      <th>3</th>\n",
       "      <td>4</td>\n",
       "      <td>Hurts to Love You</td>\n",
       "      <td>Nick Carter</td>\n",
       "    </tr>\n",
       "    <tr>\n",
       "      <th>4</th>\n",
       "      <td>5</td>\n",
       "      <td>Heart Like A Truck</td>\n",
       "      <td>Lainey Wilson</td>\n",
       "    </tr>\n",
       "    <tr>\n",
       "      <th>...</th>\n",
       "      <td>...</td>\n",
       "      <td>...</td>\n",
       "      <td>...</td>\n",
       "    </tr>\n",
       "    <tr>\n",
       "      <th>95</th>\n",
       "      <td>96</td>\n",
       "      <td>Bad Habit</td>\n",
       "      <td>Steve Lacy</td>\n",
       "    </tr>\n",
       "    <tr>\n",
       "      <th>96</th>\n",
       "      <td>97</td>\n",
       "      <td>I'll Be Waiting</td>\n",
       "      <td>Cian Ducrot</td>\n",
       "    </tr>\n",
       "    <tr>\n",
       "      <th>97</th>\n",
       "      <td>98</td>\n",
       "      <td>Hey There Delilah</td>\n",
       "      <td>Plain White T's</td>\n",
       "    </tr>\n",
       "    <tr>\n",
       "      <th>98</th>\n",
       "      <td>99</td>\n",
       "      <td>Fenty</td>\n",
       "      <td>French Montana &amp; NAV</td>\n",
       "    </tr>\n",
       "    <tr>\n",
       "      <th>99</th>\n",
       "      <td>100</td>\n",
       "      <td>Yes I Do</td>\n",
       "      <td>French Montana</td>\n",
       "    </tr>\n",
       "  </tbody>\n",
       "</table>\n",
       "<p>100 rows × 3 columns</p>\n",
       "</div>"
      ],
      "text/plain": [
       "    Top                                         Song Title  \\\n",
       "0     1                                          Anti-Hero   \n",
       "1     2                                             Unholy   \n",
       "2     3  Lift Me Up (From Black Panther: Wakanda Foreve...   \n",
       "3     4                                  Hurts to Love You   \n",
       "4     5                                 Heart Like A Truck   \n",
       "..  ...                                                ...   \n",
       "95   96                                          Bad Habit   \n",
       "96   97                                    I'll Be Waiting   \n",
       "97   98                                  Hey There Delilah   \n",
       "98   99                                              Fenty   \n",
       "99  100                                           Yes I Do   \n",
       "\n",
       "                    Artist  \n",
       "0             Taylor Swift  \n",
       "1   Sam Smith & Kim Petras  \n",
       "2                  Rihanna  \n",
       "3              Nick Carter  \n",
       "4            Lainey Wilson  \n",
       "..                     ...  \n",
       "95              Steve Lacy  \n",
       "96             Cian Ducrot  \n",
       "97         Plain White T's  \n",
       "98    French Montana & NAV  \n",
       "99          French Montana  \n",
       "\n",
       "[100 rows x 3 columns]"
      ]
     },
     "execution_count": 14,
     "metadata": {},
     "output_type": "execute_result"
    }
   ],
   "source": [
    "top100songs"
   ]
  },
  {
   "cell_type": "markdown",
   "id": "2e87e895",
   "metadata": {},
   "source": [
    "#  LAB 2 Web scrape Pop Vortex"
   ]
  },
  {
   "cell_type": "code",
   "execution_count": 20,
   "id": "97a83574",
   "metadata": {},
   "outputs": [
    {
     "name": "stdout",
     "output_type": "stream",
     "text": [
      "Enter the name of the song you are looking for: dfg\n",
      " We can't give a recommendation at the moment\n"
     ]
    }
   ],
   "source": [
    "import random\n",
    "col_one_list = top100songs['Song Title'].tolist()\n",
    "\n",
    "song_name = input(\"Enter the name of the song you are looking for: \")\n",
    "\n",
    "\n",
    "\n",
    "if song_name in col_one_list:\n",
    "    \n",
    "    col_one_list.remove(song_name) \n",
    "    \n",
    "    print(\" We recommend you listen to\", random.choice(col_one_list))\n",
    "else:\n",
    "     print (\" We can't give a recommendation at the moment\")\n"
   ]
  },
  {
   "cell_type": "markdown",
   "id": "08a772d2",
   "metadata": {},
   "source": [
    "# LAB 3 "
   ]
  },
  {
   "cell_type": "markdown",
   "id": "3b0df351",
   "metadata": {},
   "source": [
    " what to include in our database title artist id audio features \n",
    " \n",
    " defend code with except\n",
    " \n",
    " save states every x extractions"
   ]
  },
  {
   "cell_type": "markdown",
   "id": "af6ae195",
   "metadata": {},
   "source": [
    "#### autenthication"
   ]
  },
  {
   "cell_type": "code",
   "execution_count": 21,
   "id": "7e8f7f20",
   "metadata": {},
   "outputs": [],
   "source": [
    "import spotipy\n",
    "from spotipy.oauth2 import SpotifyClientCredentials"
   ]
  },
  {
   "cell_type": "markdown",
   "id": "1eb3ce8e",
   "metadata": {},
   "source": [
    "##### storing secrets"
   ]
  },
  {
   "cell_type": "code",
   "execution_count": 22,
   "id": "a6197b75",
   "metadata": {},
   "outputs": [],
   "source": [
    "secrets_file = open(\"secrets.txt\",\"r\")"
   ]
  },
  {
   "cell_type": "code",
   "execution_count": 23,
   "id": "23b5c617",
   "metadata": {},
   "outputs": [],
   "source": [
    "string = secrets_file.read()"
   ]
  },
  {
   "cell_type": "code",
   "execution_count": 121,
   "id": "ef92b33f",
   "metadata": {},
   "outputs": [],
   "source": [
    "# string\n"
   ]
  },
  {
   "cell_type": "code",
   "execution_count": 25,
   "id": "b3420a22",
   "metadata": {},
   "outputs": [],
   "source": [
    "secrets_dict={}\n",
    "for line in string.split('\\n'):\n",
    "    if len(line) > 0:\n",
    "        secrets_dict[line.split(':')[0]]=line.split(':')[1].strip()"
   ]
  },
  {
   "cell_type": "markdown",
   "id": "ff4f2277",
   "metadata": {},
   "source": [
    "#### authentication with secrets"
   ]
  },
  {
   "cell_type": "code",
   "execution_count": 26,
   "id": "3afc3bc2",
   "metadata": {},
   "outputs": [],
   "source": [
    "import spotipy\n",
    "from spotipy.oauth2 import SpotifyClientCredentials\n",
    "\n",
    "#Initialize SpotiPy with user credentials\n",
    "sp = spotipy.Spotify(auth_manager=SpotifyClientCredentials(client_id=secrets_dict['clientid'],\n",
    "                                                           client_secret=secrets_dict['clientsecret']))"
   ]
  },
  {
   "cell_type": "markdown",
   "id": "9fd9d011",
   "metadata": {},
   "source": [
    "#### Extracting large playlist"
   ]
  },
  {
   "cell_type": "code",
   "execution_count": 27,
   "id": "144cbda7",
   "metadata": {},
   "outputs": [],
   "source": [
    "playlist = sp.user_playlist_tracks(\"spotify\", \"4rnleEAOdmFAbRcNCgZMpY\")"
   ]
  },
  {
   "cell_type": "code",
   "execution_count": 28,
   "id": "1cdecdec",
   "metadata": {},
   "outputs": [
    {
     "data": {
      "text/plain": [
       "5295"
      ]
     },
     "execution_count": 28,
     "metadata": {},
     "output_type": "execute_result"
    }
   ],
   "source": [
    "playlist[\"total\"] "
   ]
  },
  {
   "cell_type": "code",
   "execution_count": 29,
   "id": "ae566eae",
   "metadata": {},
   "outputs": [],
   "source": [
    "# getting the playlist\n",
    "from random import randint\n",
    "from time import sleep\n",
    "\n",
    "def get_playlist_tracks(playlist_id):\n",
    "    results = sp.user_playlist_tracks(\"spotify\",playlist_id)\n",
    "    tracks = results['items']\n",
    "    while results['next']!=None:\n",
    "        results = sp.next(results)\n",
    "        tracks = tracks + results['items']\n",
    "#         instead of append we use + operator, so we're adding that up\n",
    "        sleep(randint(1,3))\n",
    "    return tracks"
   ]
  },
  {
   "cell_type": "code",
   "execution_count": 30,
   "id": "217846c5",
   "metadata": {},
   "outputs": [
    {
     "data": {
      "text/plain": [
       "5295"
      ]
     },
     "execution_count": 30,
     "metadata": {},
     "output_type": "execute_result"
    }
   ],
   "source": [
    "all_tracks = get_playlist_tracks(\"4rnleEAOdmFAbRcNCgZMpY\")\n",
    "len(all_tracks)"
   ]
  },
  {
   "cell_type": "code",
   "execution_count": 31,
   "id": "f556dfe9",
   "metadata": {},
   "outputs": [],
   "source": [
    "# transforming list in dataframe\n",
    "Mylist= pd.DataFrame(all_tracks)"
   ]
  },
  {
   "cell_type": "code",
   "execution_count": 32,
   "id": "8b6330b6",
   "metadata": {},
   "outputs": [
    {
     "data": {
      "text/html": [
       "<div>\n",
       "<style scoped>\n",
       "    .dataframe tbody tr th:only-of-type {\n",
       "        vertical-align: middle;\n",
       "    }\n",
       "\n",
       "    .dataframe tbody tr th {\n",
       "        vertical-align: top;\n",
       "    }\n",
       "\n",
       "    .dataframe thead th {\n",
       "        text-align: right;\n",
       "    }\n",
       "</style>\n",
       "<table border=\"1\" class=\"dataframe\">\n",
       "  <thead>\n",
       "    <tr style=\"text-align: right;\">\n",
       "      <th></th>\n",
       "      <th>added_at</th>\n",
       "      <th>added_by</th>\n",
       "      <th>is_local</th>\n",
       "      <th>primary_color</th>\n",
       "      <th>track</th>\n",
       "      <th>video_thumbnail</th>\n",
       "    </tr>\n",
       "  </thead>\n",
       "  <tbody>\n",
       "    <tr>\n",
       "      <th>0</th>\n",
       "      <td>2017-06-09T17:34:13Z</td>\n",
       "      <td>{'external_urls': {'spotify': 'https://open.sp...</td>\n",
       "      <td>False</td>\n",
       "      <td>None</td>\n",
       "      <td>{'album': {'album_type': 'album', 'artists': [...</td>\n",
       "      <td>{'url': None}</td>\n",
       "    </tr>\n",
       "    <tr>\n",
       "      <th>1</th>\n",
       "      <td>2017-06-29T20:42:16Z</td>\n",
       "      <td>{'external_urls': {'spotify': 'https://open.sp...</td>\n",
       "      <td>False</td>\n",
       "      <td>None</td>\n",
       "      <td>{'album': {'album_type': 'album', 'artists': [...</td>\n",
       "      <td>{'url': None}</td>\n",
       "    </tr>\n",
       "    <tr>\n",
       "      <th>2</th>\n",
       "      <td>2018-07-19T15:34:54Z</td>\n",
       "      <td>{'external_urls': {'spotify': 'https://open.sp...</td>\n",
       "      <td>False</td>\n",
       "      <td>None</td>\n",
       "      <td>{'album': {'album_type': 'album', 'artists': [...</td>\n",
       "      <td>{'url': None}</td>\n",
       "    </tr>\n",
       "    <tr>\n",
       "      <th>3</th>\n",
       "      <td>2016-07-05T18:32:51Z</td>\n",
       "      <td>{'external_urls': {'spotify': 'https://open.sp...</td>\n",
       "      <td>False</td>\n",
       "      <td>None</td>\n",
       "      <td>{'album': {'album_type': 'album', 'artists': [...</td>\n",
       "      <td>{'url': None}</td>\n",
       "    </tr>\n",
       "    <tr>\n",
       "      <th>4</th>\n",
       "      <td>2016-07-05T18:39:38Z</td>\n",
       "      <td>{'external_urls': {'spotify': 'https://open.sp...</td>\n",
       "      <td>False</td>\n",
       "      <td>None</td>\n",
       "      <td>{'album': {'album_type': 'album', 'artists': [...</td>\n",
       "      <td>{'url': None}</td>\n",
       "    </tr>\n",
       "    <tr>\n",
       "      <th>...</th>\n",
       "      <td>...</td>\n",
       "      <td>...</td>\n",
       "      <td>...</td>\n",
       "      <td>...</td>\n",
       "      <td>...</td>\n",
       "      <td>...</td>\n",
       "    </tr>\n",
       "    <tr>\n",
       "      <th>5290</th>\n",
       "      <td>2021-06-16T11:00:52Z</td>\n",
       "      <td>{'external_urls': {'spotify': 'https://open.sp...</td>\n",
       "      <td>False</td>\n",
       "      <td>None</td>\n",
       "      <td>{'album': {'album_type': 'album', 'artists': [...</td>\n",
       "      <td>{'url': None}</td>\n",
       "    </tr>\n",
       "    <tr>\n",
       "      <th>5291</th>\n",
       "      <td>2021-06-16T11:00:59Z</td>\n",
       "      <td>{'external_urls': {'spotify': 'https://open.sp...</td>\n",
       "      <td>False</td>\n",
       "      <td>None</td>\n",
       "      <td>{'album': {'album_type': 'single', 'artists': ...</td>\n",
       "      <td>{'url': None}</td>\n",
       "    </tr>\n",
       "    <tr>\n",
       "      <th>5292</th>\n",
       "      <td>2021-06-16T11:01:04Z</td>\n",
       "      <td>{'external_urls': {'spotify': 'https://open.sp...</td>\n",
       "      <td>False</td>\n",
       "      <td>None</td>\n",
       "      <td>{'album': {'album_type': 'album', 'artists': [...</td>\n",
       "      <td>{'url': None}</td>\n",
       "    </tr>\n",
       "    <tr>\n",
       "      <th>5293</th>\n",
       "      <td>2021-06-16T11:01:10Z</td>\n",
       "      <td>{'external_urls': {'spotify': 'https://open.sp...</td>\n",
       "      <td>False</td>\n",
       "      <td>None</td>\n",
       "      <td>{'album': {'album_type': 'album', 'artists': [...</td>\n",
       "      <td>{'url': None}</td>\n",
       "    </tr>\n",
       "    <tr>\n",
       "      <th>5294</th>\n",
       "      <td>2021-06-16T11:01:12Z</td>\n",
       "      <td>{'external_urls': {'spotify': 'https://open.sp...</td>\n",
       "      <td>False</td>\n",
       "      <td>None</td>\n",
       "      <td>{'album': {'album_type': 'album', 'artists': [...</td>\n",
       "      <td>{'url': None}</td>\n",
       "    </tr>\n",
       "  </tbody>\n",
       "</table>\n",
       "<p>5295 rows × 6 columns</p>\n",
       "</div>"
      ],
      "text/plain": [
       "                  added_at                                           added_by  \\\n",
       "0     2017-06-09T17:34:13Z  {'external_urls': {'spotify': 'https://open.sp...   \n",
       "1     2017-06-29T20:42:16Z  {'external_urls': {'spotify': 'https://open.sp...   \n",
       "2     2018-07-19T15:34:54Z  {'external_urls': {'spotify': 'https://open.sp...   \n",
       "3     2016-07-05T18:32:51Z  {'external_urls': {'spotify': 'https://open.sp...   \n",
       "4     2016-07-05T18:39:38Z  {'external_urls': {'spotify': 'https://open.sp...   \n",
       "...                    ...                                                ...   \n",
       "5290  2021-06-16T11:00:52Z  {'external_urls': {'spotify': 'https://open.sp...   \n",
       "5291  2021-06-16T11:00:59Z  {'external_urls': {'spotify': 'https://open.sp...   \n",
       "5292  2021-06-16T11:01:04Z  {'external_urls': {'spotify': 'https://open.sp...   \n",
       "5293  2021-06-16T11:01:10Z  {'external_urls': {'spotify': 'https://open.sp...   \n",
       "5294  2021-06-16T11:01:12Z  {'external_urls': {'spotify': 'https://open.sp...   \n",
       "\n",
       "      is_local primary_color  \\\n",
       "0        False          None   \n",
       "1        False          None   \n",
       "2        False          None   \n",
       "3        False          None   \n",
       "4        False          None   \n",
       "...        ...           ...   \n",
       "5290     False          None   \n",
       "5291     False          None   \n",
       "5292     False          None   \n",
       "5293     False          None   \n",
       "5294     False          None   \n",
       "\n",
       "                                                  track video_thumbnail  \n",
       "0     {'album': {'album_type': 'album', 'artists': [...   {'url': None}  \n",
       "1     {'album': {'album_type': 'album', 'artists': [...   {'url': None}  \n",
       "2     {'album': {'album_type': 'album', 'artists': [...   {'url': None}  \n",
       "3     {'album': {'album_type': 'album', 'artists': [...   {'url': None}  \n",
       "4     {'album': {'album_type': 'album', 'artists': [...   {'url': None}  \n",
       "...                                                 ...             ...  \n",
       "5290  {'album': {'album_type': 'album', 'artists': [...   {'url': None}  \n",
       "5291  {'album': {'album_type': 'single', 'artists': ...   {'url': None}  \n",
       "5292  {'album': {'album_type': 'album', 'artists': [...   {'url': None}  \n",
       "5293  {'album': {'album_type': 'album', 'artists': [...   {'url': None}  \n",
       "5294  {'album': {'album_type': 'album', 'artists': [...   {'url': None}  \n",
       "\n",
       "[5295 rows x 6 columns]"
      ]
     },
     "execution_count": 32,
     "metadata": {},
     "output_type": "execute_result"
    }
   ],
   "source": [
    "Mylist"
   ]
  },
  {
   "cell_type": "markdown",
   "id": "00ed555f",
   "metadata": {},
   "source": [
    "flatten columns. Column track contains all the info I need"
   ]
  },
  {
   "cell_type": "code",
   "execution_count": 33,
   "id": "830d6686",
   "metadata": {},
   "outputs": [],
   "source": [
    "\n",
    "def flatten(Mylist, col_list):\n",
    "    for column in col_list:\n",
    "        flattened = pd.DataFrame(dict(Mylist[column])).transpose()\n",
    "        columns = [str(col) for col in flattened.columns]\n",
    "        flattened.columns = [column + '_' + colname for colname in columns]\n",
    "        Mylist = pd.concat([Mylist, flattened], axis=1)\n",
    "        Mylist = Mylist.drop(column, axis=1)\n",
    "    return Mylist"
   ]
  },
  {
   "cell_type": "code",
   "execution_count": 34,
   "id": "caa0fa9c",
   "metadata": {},
   "outputs": [],
   "source": [
    "nested_columns= ['track']"
   ]
  },
  {
   "cell_type": "code",
   "execution_count": 122,
   "id": "054fb63d",
   "metadata": {},
   "outputs": [
    {
     "data": {
      "text/html": [
       "<div>\n",
       "<style scoped>\n",
       "    .dataframe tbody tr th:only-of-type {\n",
       "        vertical-align: middle;\n",
       "    }\n",
       "\n",
       "    .dataframe tbody tr th {\n",
       "        vertical-align: top;\n",
       "    }\n",
       "\n",
       "    .dataframe thead th {\n",
       "        text-align: right;\n",
       "    }\n",
       "</style>\n",
       "<table border=\"1\" class=\"dataframe\">\n",
       "  <thead>\n",
       "    <tr style=\"text-align: right;\">\n",
       "      <th></th>\n",
       "      <th>artist</th>\n",
       "      <th>song</th>\n",
       "      <th>url</th>\n",
       "      <th>uri_0</th>\n",
       "    </tr>\n",
       "  </thead>\n",
       "  <tbody>\n",
       "    <tr>\n",
       "      <th>0</th>\n",
       "      <td>Hozier</td>\n",
       "      <td>Take Me To Church</td>\n",
       "      <td>NaN</td>\n",
       "      <td>{'danceability': 0.566, 'energy': 0.664, 'key'...</td>\n",
       "    </tr>\n",
       "    <tr>\n",
       "      <th>1</th>\n",
       "      <td>Mike Posner</td>\n",
       "      <td>Cooler Than Me - Single Mix</td>\n",
       "      <td>NaN</td>\n",
       "      <td>{'danceability': 0.768, 'energy': 0.82, 'key':...</td>\n",
       "    </tr>\n",
       "  </tbody>\n",
       "</table>\n",
       "</div>"
      ],
      "text/plain": [
       "        artist                         song  url  \\\n",
       "0       Hozier            Take Me To Church  NaN   \n",
       "1  Mike Posner  Cooler Than Me - Single Mix  NaN   \n",
       "\n",
       "                                               uri_0  \n",
       "0  {'danceability': 0.566, 'energy': 0.664, 'key'...  \n",
       "1  {'danceability': 0.768, 'energy': 0.82, 'key':...  "
      ]
     },
     "execution_count": 122,
     "metadata": {},
     "output_type": "execute_result"
    }
   ],
   "source": [
    "flat = flatten(Mylist, nested_columns)\n",
    "flat.head(2)"
   ]
  },
  {
   "cell_type": "code",
   "execution_count": 36,
   "id": "1cc03652",
   "metadata": {},
   "outputs": [
    {
     "data": {
      "text/plain": [
       "Index(['added_at', 'added_by', 'is_local', 'primary_color', 'video_thumbnail',\n",
       "       'track_album', 'track_artists', 'track_available_markets',\n",
       "       'track_disc_number', 'track_duration_ms', 'track_episode',\n",
       "       'track_explicit', 'track_external_ids', 'track_external_urls',\n",
       "       'track_href', 'track_id', 'track_is_local', 'track_name',\n",
       "       'track_popularity', 'track_preview_url', 'track_track',\n",
       "       'track_track_number', 'track_type', 'track_uri'],\n",
       "      dtype='object')"
      ]
     },
     "execution_count": 36,
     "metadata": {},
     "output_type": "execute_result"
    }
   ],
   "source": [
    "flat.keys()"
   ]
  },
  {
   "cell_type": "code",
   "execution_count": 37,
   "id": "c213b4c3",
   "metadata": {},
   "outputs": [],
   "source": [
    "flat1= flat[['track_id','track_name','track_uri','track_album']]"
   ]
  },
  {
   "cell_type": "code",
   "execution_count": 124,
   "id": "95cbec7d",
   "metadata": {
    "scrolled": true
   },
   "outputs": [
    {
     "data": {
      "text/html": [
       "<div>\n",
       "<style scoped>\n",
       "    .dataframe tbody tr th:only-of-type {\n",
       "        vertical-align: middle;\n",
       "    }\n",
       "\n",
       "    .dataframe tbody tr th {\n",
       "        vertical-align: top;\n",
       "    }\n",
       "\n",
       "    .dataframe thead th {\n",
       "        text-align: right;\n",
       "    }\n",
       "</style>\n",
       "<table border=\"1\" class=\"dataframe\">\n",
       "  <thead>\n",
       "    <tr style=\"text-align: right;\">\n",
       "      <th></th>\n",
       "      <th>artist</th>\n",
       "      <th>song</th>\n",
       "      <th>url</th>\n",
       "      <th>uri_0</th>\n",
       "    </tr>\n",
       "  </thead>\n",
       "  <tbody>\n",
       "    <tr>\n",
       "      <th>0</th>\n",
       "      <td>Hozier</td>\n",
       "      <td>Take Me To Church</td>\n",
       "      <td>NaN</td>\n",
       "      <td>{'danceability': 0.566, 'energy': 0.664, 'key'...</td>\n",
       "    </tr>\n",
       "    <tr>\n",
       "      <th>1</th>\n",
       "      <td>Mike Posner</td>\n",
       "      <td>Cooler Than Me - Single Mix</td>\n",
       "      <td>NaN</td>\n",
       "      <td>{'danceability': 0.768, 'energy': 0.82, 'key':...</td>\n",
       "    </tr>\n",
       "  </tbody>\n",
       "</table>\n",
       "</div>"
      ],
      "text/plain": [
       "        artist                         song  url  \\\n",
       "0       Hozier            Take Me To Church  NaN   \n",
       "1  Mike Posner  Cooler Than Me - Single Mix  NaN   \n",
       "\n",
       "                                               uri_0  \n",
       "0  {'danceability': 0.566, 'energy': 0.664, 'key'...  \n",
       "1  {'danceability': 0.768, 'energy': 0.82, 'key':...  "
      ]
     },
     "execution_count": 124,
     "metadata": {},
     "output_type": "execute_result"
    }
   ],
   "source": [
    "flat1.head(2)"
   ]
  },
  {
   "cell_type": "code",
   "execution_count": 39,
   "id": "5147c90d",
   "metadata": {},
   "outputs": [],
   "source": [
    "# flattening track_album, which contains the data we want to extract\n",
    "\n",
    "def flatten(flat1, col_list):\n",
    "    for column in col_list:\n",
    "        flattened = pd.DataFrame(dict(flat1[column])).transpose()\n",
    "        columns = [str(col) for col in flattened.columns]\n",
    "        flattened.columns = [column + '_' + colname for colname in columns]\n",
    "        Mylist = pd.concat([flat1, flattened], axis=1)\n",
    "        Mylist = Mylist.drop(column, axis=1)\n",
    "    return Mylist"
   ]
  },
  {
   "cell_type": "code",
   "execution_count": 40,
   "id": "913ae55c",
   "metadata": {},
   "outputs": [],
   "source": [
    "nested_columns1= ['track_album']"
   ]
  },
  {
   "cell_type": "code",
   "execution_count": 123,
   "id": "81259d7e",
   "metadata": {},
   "outputs": [
    {
     "data": {
      "text/html": [
       "<div>\n",
       "<style scoped>\n",
       "    .dataframe tbody tr th:only-of-type {\n",
       "        vertical-align: middle;\n",
       "    }\n",
       "\n",
       "    .dataframe tbody tr th {\n",
       "        vertical-align: top;\n",
       "    }\n",
       "\n",
       "    .dataframe thead th {\n",
       "        text-align: right;\n",
       "    }\n",
       "</style>\n",
       "<table border=\"1\" class=\"dataframe\">\n",
       "  <thead>\n",
       "    <tr style=\"text-align: right;\">\n",
       "      <th></th>\n",
       "      <th>artist</th>\n",
       "      <th>song</th>\n",
       "      <th>url</th>\n",
       "      <th>uri_0</th>\n",
       "    </tr>\n",
       "  </thead>\n",
       "  <tbody>\n",
       "    <tr>\n",
       "      <th>0</th>\n",
       "      <td>Hozier</td>\n",
       "      <td>Take Me To Church</td>\n",
       "      <td>NaN</td>\n",
       "      <td>{'danceability': 0.566, 'energy': 0.664, 'key'...</td>\n",
       "    </tr>\n",
       "    <tr>\n",
       "      <th>1</th>\n",
       "      <td>Mike Posner</td>\n",
       "      <td>Cooler Than Me - Single Mix</td>\n",
       "      <td>NaN</td>\n",
       "      <td>{'danceability': 0.768, 'energy': 0.82, 'key':...</td>\n",
       "    </tr>\n",
       "  </tbody>\n",
       "</table>\n",
       "</div>"
      ],
      "text/plain": [
       "        artist                         song  url  \\\n",
       "0       Hozier            Take Me To Church  NaN   \n",
       "1  Mike Posner  Cooler Than Me - Single Mix  NaN   \n",
       "\n",
       "                                               uri_0  \n",
       "0  {'danceability': 0.566, 'energy': 0.664, 'key'...  \n",
       "1  {'danceability': 0.768, 'energy': 0.82, 'key':...  "
      ]
     },
     "execution_count": 123,
     "metadata": {},
     "output_type": "execute_result"
    }
   ],
   "source": [
    "flat = flatten(Mylist, nested_columns)\n",
    "flat.head(2)"
   ]
  },
  {
   "cell_type": "code",
   "execution_count": 56,
   "id": "27015a71",
   "metadata": {},
   "outputs": [
    {
     "data": {
      "text/plain": [
       "Index(['added_at', 'added_by', 'is_local', 'primary_color', 'video_thumbnail',\n",
       "       'track_album', 'track_artists', 'track_available_markets',\n",
       "       'track_disc_number', 'track_duration_ms', 'track_episode',\n",
       "       'track_explicit', 'track_external_ids', 'track_external_urls',\n",
       "       'track_href', 'track_id', 'track_is_local', 'track_name',\n",
       "       'track_popularity', 'track_preview_url', 'track_track',\n",
       "       'track_track_number', 'track_type', 'track_uri'],\n",
       "      dtype='object')"
      ]
     },
     "execution_count": 56,
     "metadata": {},
     "output_type": "execute_result"
    }
   ],
   "source": [
    "flat.keys()"
   ]
  },
  {
   "cell_type": "markdown",
   "id": "5ad4d57b",
   "metadata": {},
   "source": [
    "### Track id gives us the audio features"
   ]
  },
  {
   "cell_type": "code",
   "execution_count": 43,
   "id": "159b37d9",
   "metadata": {},
   "outputs": [
    {
     "data": {
      "text/plain": [
       "[{'danceability': 0.566,\n",
       "  'energy': 0.664,\n",
       "  'key': 4,\n",
       "  'loudness': -5.303,\n",
       "  'mode': 0,\n",
       "  'speechiness': 0.0464,\n",
       "  'acousticness': 0.634,\n",
       "  'instrumentalness': 0,\n",
       "  'liveness': 0.116,\n",
       "  'valence': 0.437,\n",
       "  'tempo': 128.945,\n",
       "  'type': 'audio_features',\n",
       "  'id': '7dS5EaCoMnN7DzlpT6aRn2',\n",
       "  'uri': 'spotify:track:7dS5EaCoMnN7DzlpT6aRn2',\n",
       "  'track_href': 'https://api.spotify.com/v1/tracks/7dS5EaCoMnN7DzlpT6aRn2',\n",
       "  'analysis_url': 'https://api.spotify.com/v1/audio-analysis/7dS5EaCoMnN7DzlpT6aRn2',\n",
       "  'duration_ms': 241688,\n",
       "  'time_signature': 4}]"
      ]
     },
     "execution_count": 43,
     "metadata": {},
     "output_type": "execute_result"
    }
   ],
   "source": [
    "sp.audio_features('7dS5EaCoMnN7DzlpT6aRn2')"
   ]
  },
  {
   "cell_type": "code",
   "execution_count": 105,
   "id": "a0b2737e",
   "metadata": {},
   "outputs": [],
   "source": [
    "import warnings\n",
    "warnings.filterwarnings(\"ignore\")\n",
    "# create an empty dataframe with columns for artist and song\n",
    "   \n",
    "df = pd.DataFrame(columns=['artist','song', 'uri', 'url'])\n",
    "    \n",
    "# Iterate over the all_tracks dictionary and insert the artist and song into the dataframe,\n",
    "for track in all_tracks:\n",
    "    artist_name = track['track']['artists'][0]['name']\n",
    "    song_name = track['track']['name']\n",
    "    uri = track[\"track\"][\"uri\"]\n",
    "    url = track[\"track\"][\"external_urls\"]\n",
    "    df = df.append({'artist':artist_name,'song':song_name, 'uri':uri}, ignore_index=True)\n"
   ]
  },
  {
   "cell_type": "code",
   "execution_count": 106,
   "id": "82adf1d4",
   "metadata": {},
   "outputs": [
    {
     "data": {
      "text/html": [
       "<div>\n",
       "<style scoped>\n",
       "    .dataframe tbody tr th:only-of-type {\n",
       "        vertical-align: middle;\n",
       "    }\n",
       "\n",
       "    .dataframe tbody tr th {\n",
       "        vertical-align: top;\n",
       "    }\n",
       "\n",
       "    .dataframe thead th {\n",
       "        text-align: right;\n",
       "    }\n",
       "</style>\n",
       "<table border=\"1\" class=\"dataframe\">\n",
       "  <thead>\n",
       "    <tr style=\"text-align: right;\">\n",
       "      <th></th>\n",
       "      <th>artist</th>\n",
       "      <th>song</th>\n",
       "      <th>uri</th>\n",
       "      <th>url</th>\n",
       "    </tr>\n",
       "  </thead>\n",
       "  <tbody>\n",
       "    <tr>\n",
       "      <th>0</th>\n",
       "      <td>Hozier</td>\n",
       "      <td>Take Me To Church</td>\n",
       "      <td>spotify:track:7dS5EaCoMnN7DzlpT6aRn2</td>\n",
       "      <td>NaN</td>\n",
       "    </tr>\n",
       "    <tr>\n",
       "      <th>1</th>\n",
       "      <td>Mike Posner</td>\n",
       "      <td>Cooler Than Me - Single Mix</td>\n",
       "      <td>spotify:track:2V4bv1fNWfTcyRJKmej6Sj</td>\n",
       "      <td>NaN</td>\n",
       "    </tr>\n",
       "    <tr>\n",
       "      <th>2</th>\n",
       "      <td>Tyler, The Creator</td>\n",
       "      <td>See You Again (feat. Kali Uchis)</td>\n",
       "      <td>spotify:track:7KA4W4McWYRpgf0fWsJZWB</td>\n",
       "      <td>NaN</td>\n",
       "    </tr>\n",
       "  </tbody>\n",
       "</table>\n",
       "</div>"
      ],
      "text/plain": [
       "               artist                              song  \\\n",
       "0              Hozier                 Take Me To Church   \n",
       "1         Mike Posner       Cooler Than Me - Single Mix   \n",
       "2  Tyler, The Creator  See You Again (feat. Kali Uchis)   \n",
       "\n",
       "                                    uri  url  \n",
       "0  spotify:track:7dS5EaCoMnN7DzlpT6aRn2  NaN  \n",
       "1  spotify:track:2V4bv1fNWfTcyRJKmej6Sj  NaN  \n",
       "2  spotify:track:7KA4W4McWYRpgf0fWsJZWB  NaN  "
      ]
     },
     "execution_count": 106,
     "metadata": {},
     "output_type": "execute_result"
    }
   ],
   "source": [
    "df.head(3)"
   ]
  },
  {
   "cell_type": "markdown",
   "id": "f15905eb",
   "metadata": {},
   "source": [
    "#### creating audio function to apply the result in the uri column"
   ]
  },
  {
   "cell_type": "code",
   "execution_count": 107,
   "id": "54677707",
   "metadata": {},
   "outputs": [],
   "source": [
    "def audio_features(uri):\n",
    "    \n",
    "    return sp.audio_features(uri)\n"
   ]
  },
  {
   "cell_type": "code",
   "execution_count": 108,
   "id": "ecec30b5",
   "metadata": {},
   "outputs": [],
   "source": [
    "df['uri']= df['uri'].apply(audio_features)\n"
   ]
  },
  {
   "cell_type": "code",
   "execution_count": 109,
   "id": "c25b15c0",
   "metadata": {},
   "outputs": [],
   "source": [
    "# song_name = []\n",
    "# artist_name = []\n",
    "# track_uri = []\n",
    "# for i in range(len(all_tracks)):\n",
    "#     try:\n",
    "#         song = all_tracks[i]['track']['name']\n",
    "#         artist = all_tracks[i]['track']['album']['artists'][0]['name']\n",
    "#         uri = all_tracks[i]['track']['uri']\n",
    "#         artist_name.append(artist)\n",
    "#         song_name.append(song)\n",
    "#         track_uri.append(uri)\n",
    "#     except:\n",
    "#         artist_name.append('NA')\n",
    "#         song_name.append('NA')\n",
    "#         track_uri.append('NA')\n",
    "\n",
    "# playlist_df= pd.DataFrame({'song': song_name,'artist': artist_name,'uri': track_uri})\n"
   ]
  },
  {
   "cell_type": "markdown",
   "id": "fc5fb67b",
   "metadata": {},
   "source": [
    "#### Final dataframe. Just need to flatten uri column"
   ]
  },
  {
   "cell_type": "code",
   "execution_count": 110,
   "id": "92ec5e24",
   "metadata": {},
   "outputs": [
    {
     "data": {
      "text/html": [
       "<div>\n",
       "<style scoped>\n",
       "    .dataframe tbody tr th:only-of-type {\n",
       "        vertical-align: middle;\n",
       "    }\n",
       "\n",
       "    .dataframe tbody tr th {\n",
       "        vertical-align: top;\n",
       "    }\n",
       "\n",
       "    .dataframe thead th {\n",
       "        text-align: right;\n",
       "    }\n",
       "</style>\n",
       "<table border=\"1\" class=\"dataframe\">\n",
       "  <thead>\n",
       "    <tr style=\"text-align: right;\">\n",
       "      <th></th>\n",
       "      <th>artist</th>\n",
       "      <th>song</th>\n",
       "      <th>uri</th>\n",
       "      <th>url</th>\n",
       "    </tr>\n",
       "  </thead>\n",
       "  <tbody>\n",
       "    <tr>\n",
       "      <th>0</th>\n",
       "      <td>Hozier</td>\n",
       "      <td>Take Me To Church</td>\n",
       "      <td>[{'danceability': 0.566, 'energy': 0.664, 'key...</td>\n",
       "      <td>NaN</td>\n",
       "    </tr>\n",
       "    <tr>\n",
       "      <th>1</th>\n",
       "      <td>Mike Posner</td>\n",
       "      <td>Cooler Than Me - Single Mix</td>\n",
       "      <td>[{'danceability': 0.768, 'energy': 0.82, 'key'...</td>\n",
       "      <td>NaN</td>\n",
       "    </tr>\n",
       "    <tr>\n",
       "      <th>2</th>\n",
       "      <td>Tyler, The Creator</td>\n",
       "      <td>See You Again (feat. Kali Uchis)</td>\n",
       "      <td>[{'danceability': 0.558, 'energy': 0.559, 'key...</td>\n",
       "      <td>NaN</td>\n",
       "    </tr>\n",
       "    <tr>\n",
       "      <th>3</th>\n",
       "      <td>Bastille</td>\n",
       "      <td>Pompeii</td>\n",
       "      <td>[{'danceability': 0.679, 'energy': 0.715, 'key...</td>\n",
       "      <td>NaN</td>\n",
       "    </tr>\n",
       "    <tr>\n",
       "      <th>4</th>\n",
       "      <td>Shakira</td>\n",
       "      <td>Hips Don't Lie (feat. Wyclef Jean)</td>\n",
       "      <td>[{'danceability': 0.778, 'energy': 0.824, 'key...</td>\n",
       "      <td>NaN</td>\n",
       "    </tr>\n",
       "    <tr>\n",
       "      <th>...</th>\n",
       "      <td>...</td>\n",
       "      <td>...</td>\n",
       "      <td>...</td>\n",
       "      <td>...</td>\n",
       "    </tr>\n",
       "    <tr>\n",
       "      <th>5290</th>\n",
       "      <td>MARINA</td>\n",
       "      <td>Hermit the Frog</td>\n",
       "      <td>[{'danceability': 0.609, 'energy': 0.679, 'key...</td>\n",
       "      <td>NaN</td>\n",
       "    </tr>\n",
       "    <tr>\n",
       "      <th>5291</th>\n",
       "      <td>Olivia Rodrigo</td>\n",
       "      <td>deja vu</td>\n",
       "      <td>[{'danceability': 0.439, 'energy': 0.61, 'key'...</td>\n",
       "      <td>NaN</td>\n",
       "    </tr>\n",
       "    <tr>\n",
       "      <th>5292</th>\n",
       "      <td>BIA</td>\n",
       "      <td>WHOLE LOTTA MONEY</td>\n",
       "      <td>[{'danceability': 0.897, 'energy': 0.371, 'key...</td>\n",
       "      <td>NaN</td>\n",
       "    </tr>\n",
       "    <tr>\n",
       "      <th>5293</th>\n",
       "      <td>Ashnikko</td>\n",
       "      <td>Slumber Party (feat. Princess Nokia)</td>\n",
       "      <td>[{'danceability': 0.964, 'energy': 0.398, 'key...</td>\n",
       "      <td>NaN</td>\n",
       "    </tr>\n",
       "    <tr>\n",
       "      <th>5294</th>\n",
       "      <td>Kali Uchis</td>\n",
       "      <td>telepatía</td>\n",
       "      <td>[{'danceability': 0.653, 'energy': 0.524, 'key...</td>\n",
       "      <td>NaN</td>\n",
       "    </tr>\n",
       "  </tbody>\n",
       "</table>\n",
       "<p>5295 rows × 4 columns</p>\n",
       "</div>"
      ],
      "text/plain": [
       "                  artist                                  song  \\\n",
       "0                 Hozier                     Take Me To Church   \n",
       "1            Mike Posner           Cooler Than Me - Single Mix   \n",
       "2     Tyler, The Creator      See You Again (feat. Kali Uchis)   \n",
       "3               Bastille                               Pompeii   \n",
       "4                Shakira    Hips Don't Lie (feat. Wyclef Jean)   \n",
       "...                  ...                                   ...   \n",
       "5290              MARINA                       Hermit the Frog   \n",
       "5291      Olivia Rodrigo                               deja vu   \n",
       "5292                 BIA                     WHOLE LOTTA MONEY   \n",
       "5293            Ashnikko  Slumber Party (feat. Princess Nokia)   \n",
       "5294          Kali Uchis                             telepatía   \n",
       "\n",
       "                                                    uri  url  \n",
       "0     [{'danceability': 0.566, 'energy': 0.664, 'key...  NaN  \n",
       "1     [{'danceability': 0.768, 'energy': 0.82, 'key'...  NaN  \n",
       "2     [{'danceability': 0.558, 'energy': 0.559, 'key...  NaN  \n",
       "3     [{'danceability': 0.679, 'energy': 0.715, 'key...  NaN  \n",
       "4     [{'danceability': 0.778, 'energy': 0.824, 'key...  NaN  \n",
       "...                                                 ...  ...  \n",
       "5290  [{'danceability': 0.609, 'energy': 0.679, 'key...  NaN  \n",
       "5291  [{'danceability': 0.439, 'energy': 0.61, 'key'...  NaN  \n",
       "5292  [{'danceability': 0.897, 'energy': 0.371, 'key...  NaN  \n",
       "5293  [{'danceability': 0.964, 'energy': 0.398, 'key...  NaN  \n",
       "5294  [{'danceability': 0.653, 'energy': 0.524, 'key...  NaN  \n",
       "\n",
       "[5295 rows x 4 columns]"
      ]
     },
     "execution_count": 110,
     "metadata": {},
     "output_type": "execute_result"
    }
   ],
   "source": [
    "df"
   ]
  },
  {
   "cell_type": "code",
   "execution_count": 112,
   "id": "d422c1e0",
   "metadata": {},
   "outputs": [],
   "source": [
    "def flatten(flat1, col_list):\n",
    "    for column in col_list:\n",
    "        flattened = pd.DataFrame(dict(df[column])).transpose()\n",
    "        columns = [str(col) for col in flattened.columns]\n",
    "        flattened.columns = [column + '_' + colname for colname in columns]\n",
    "        Mylist = pd.concat([df, flattened], axis=1)\n",
    "        Mylist = Mylist.drop(column, axis=1)\n",
    "    return Mylist"
   ]
  },
  {
   "cell_type": "code",
   "execution_count": 113,
   "id": "88dd7e79",
   "metadata": {},
   "outputs": [],
   "source": [
    "nested_columns= ['uri']"
   ]
  },
  {
   "cell_type": "code",
   "execution_count": 114,
   "id": "3e60f5d3",
   "metadata": {},
   "outputs": [
    {
     "data": {
      "text/html": [
       "<div>\n",
       "<style scoped>\n",
       "    .dataframe tbody tr th:only-of-type {\n",
       "        vertical-align: middle;\n",
       "    }\n",
       "\n",
       "    .dataframe tbody tr th {\n",
       "        vertical-align: top;\n",
       "    }\n",
       "\n",
       "    .dataframe thead th {\n",
       "        text-align: right;\n",
       "    }\n",
       "</style>\n",
       "<table border=\"1\" class=\"dataframe\">\n",
       "  <thead>\n",
       "    <tr style=\"text-align: right;\">\n",
       "      <th></th>\n",
       "      <th>artist</th>\n",
       "      <th>song</th>\n",
       "      <th>url</th>\n",
       "      <th>uri_0</th>\n",
       "    </tr>\n",
       "  </thead>\n",
       "  <tbody>\n",
       "    <tr>\n",
       "      <th>0</th>\n",
       "      <td>Hozier</td>\n",
       "      <td>Take Me To Church</td>\n",
       "      <td>NaN</td>\n",
       "      <td>{'danceability': 0.566, 'energy': 0.664, 'key'...</td>\n",
       "    </tr>\n",
       "    <tr>\n",
       "      <th>1</th>\n",
       "      <td>Mike Posner</td>\n",
       "      <td>Cooler Than Me - Single Mix</td>\n",
       "      <td>NaN</td>\n",
       "      <td>{'danceability': 0.768, 'energy': 0.82, 'key':...</td>\n",
       "    </tr>\n",
       "  </tbody>\n",
       "</table>\n",
       "</div>"
      ],
      "text/plain": [
       "        artist                         song  url  \\\n",
       "0       Hozier            Take Me To Church  NaN   \n",
       "1  Mike Posner  Cooler Than Me - Single Mix  NaN   \n",
       "\n",
       "                                               uri_0  \n",
       "0  {'danceability': 0.566, 'energy': 0.664, 'key'...  \n",
       "1  {'danceability': 0.768, 'energy': 0.82, 'key':...  "
      ]
     },
     "execution_count": 114,
     "metadata": {},
     "output_type": "execute_result"
    }
   ],
   "source": [
    "flat1 = flatten(Mylist, nested_columns)\n",
    "flat1.head(2)"
   ]
  },
  {
   "cell_type": "code",
   "execution_count": 115,
   "id": "146ef09f",
   "metadata": {},
   "outputs": [],
   "source": [
    "flat2 = flat1['uri_0'].apply(pd.Series)"
   ]
  },
  {
   "cell_type": "code",
   "execution_count": 125,
   "id": "8466d832",
   "metadata": {},
   "outputs": [
    {
     "data": {
      "text/html": [
       "<div>\n",
       "<style scoped>\n",
       "    .dataframe tbody tr th:only-of-type {\n",
       "        vertical-align: middle;\n",
       "    }\n",
       "\n",
       "    .dataframe tbody tr th {\n",
       "        vertical-align: top;\n",
       "    }\n",
       "\n",
       "    .dataframe thead th {\n",
       "        text-align: right;\n",
       "    }\n",
       "</style>\n",
       "<table border=\"1\" class=\"dataframe\">\n",
       "  <thead>\n",
       "    <tr style=\"text-align: right;\">\n",
       "      <th></th>\n",
       "      <th>danceability</th>\n",
       "      <th>energy</th>\n",
       "      <th>key</th>\n",
       "      <th>loudness</th>\n",
       "      <th>mode</th>\n",
       "      <th>speechiness</th>\n",
       "      <th>acousticness</th>\n",
       "      <th>instrumentalness</th>\n",
       "      <th>liveness</th>\n",
       "      <th>valence</th>\n",
       "      <th>tempo</th>\n",
       "      <th>type</th>\n",
       "      <th>id</th>\n",
       "      <th>uri</th>\n",
       "      <th>track_href</th>\n",
       "      <th>analysis_url</th>\n",
       "      <th>duration_ms</th>\n",
       "      <th>time_signature</th>\n",
       "    </tr>\n",
       "  </thead>\n",
       "  <tbody>\n",
       "    <tr>\n",
       "      <th>0</th>\n",
       "      <td>0.566</td>\n",
       "      <td>0.664</td>\n",
       "      <td>4</td>\n",
       "      <td>-5.303</td>\n",
       "      <td>0</td>\n",
       "      <td>0.0464</td>\n",
       "      <td>0.634</td>\n",
       "      <td>0.0</td>\n",
       "      <td>0.116</td>\n",
       "      <td>0.437</td>\n",
       "      <td>128.945</td>\n",
       "      <td>audio_features</td>\n",
       "      <td>7dS5EaCoMnN7DzlpT6aRn2</td>\n",
       "      <td>spotify:track:7dS5EaCoMnN7DzlpT6aRn2</td>\n",
       "      <td>https://api.spotify.com/v1/tracks/7dS5EaCoMnN7...</td>\n",
       "      <td>https://api.spotify.com/v1/audio-analysis/7dS5...</td>\n",
       "      <td>241688</td>\n",
       "      <td>4</td>\n",
       "    </tr>\n",
       "    <tr>\n",
       "      <th>1</th>\n",
       "      <td>0.768</td>\n",
       "      <td>0.820</td>\n",
       "      <td>7</td>\n",
       "      <td>-4.630</td>\n",
       "      <td>0</td>\n",
       "      <td>0.0474</td>\n",
       "      <td>0.179</td>\n",
       "      <td>0.0</td>\n",
       "      <td>0.689</td>\n",
       "      <td>0.625</td>\n",
       "      <td>129.965</td>\n",
       "      <td>audio_features</td>\n",
       "      <td>2V4bv1fNWfTcyRJKmej6Sj</td>\n",
       "      <td>spotify:track:2V4bv1fNWfTcyRJKmej6Sj</td>\n",
       "      <td>https://api.spotify.com/v1/tracks/2V4bv1fNWfTc...</td>\n",
       "      <td>https://api.spotify.com/v1/audio-analysis/2V4b...</td>\n",
       "      <td>213293</td>\n",
       "      <td>4</td>\n",
       "    </tr>\n",
       "  </tbody>\n",
       "</table>\n",
       "</div>"
      ],
      "text/plain": [
       "   danceability  energy  key  loudness  mode  speechiness  acousticness  \\\n",
       "0         0.566   0.664    4    -5.303     0       0.0464         0.634   \n",
       "1         0.768   0.820    7    -4.630     0       0.0474         0.179   \n",
       "\n",
       "   instrumentalness  liveness  valence    tempo            type  \\\n",
       "0               0.0     0.116    0.437  128.945  audio_features   \n",
       "1               0.0     0.689    0.625  129.965  audio_features   \n",
       "\n",
       "                       id                                   uri  \\\n",
       "0  7dS5EaCoMnN7DzlpT6aRn2  spotify:track:7dS5EaCoMnN7DzlpT6aRn2   \n",
       "1  2V4bv1fNWfTcyRJKmej6Sj  spotify:track:2V4bv1fNWfTcyRJKmej6Sj   \n",
       "\n",
       "                                          track_href  \\\n",
       "0  https://api.spotify.com/v1/tracks/7dS5EaCoMnN7...   \n",
       "1  https://api.spotify.com/v1/tracks/2V4bv1fNWfTc...   \n",
       "\n",
       "                                        analysis_url  duration_ms  \\\n",
       "0  https://api.spotify.com/v1/audio-analysis/7dS5...       241688   \n",
       "1  https://api.spotify.com/v1/audio-analysis/2V4b...       213293   \n",
       "\n",
       "   time_signature  \n",
       "0               4  \n",
       "1               4  "
      ]
     },
     "execution_count": 125,
     "metadata": {},
     "output_type": "execute_result"
    }
   ],
   "source": [
    "flat2.head(2)"
   ]
  },
  {
   "cell_type": "markdown",
   "id": "45013cee",
   "metadata": {},
   "source": [
    "#### concatenating both dataframes  "
   ]
  },
  {
   "cell_type": "code",
   "execution_count": 118,
   "id": "a2ededcb",
   "metadata": {},
   "outputs": [],
   "source": [
    "FinalList= pd.concat([flat1, flat2], axis=1) \n"
   ]
  },
  {
   "cell_type": "markdown",
   "id": "f7e55b4a",
   "metadata": {},
   "source": [
    "#### dropping some columns"
   ]
  },
  {
   "cell_type": "code",
   "execution_count": null,
   "id": "d616d8df",
   "metadata": {},
   "outputs": [],
   "source": [
    "Finalist= FinalList.drop(['uri_0','url','type','uri','track_href','analysis_url','time_signature'], axis=1)"
   ]
  },
  {
   "cell_type": "code",
   "execution_count": 119,
   "id": "5a39bc37",
   "metadata": {},
   "outputs": [
    {
     "data": {
      "text/html": [
       "<div>\n",
       "<style scoped>\n",
       "    .dataframe tbody tr th:only-of-type {\n",
       "        vertical-align: middle;\n",
       "    }\n",
       "\n",
       "    .dataframe tbody tr th {\n",
       "        vertical-align: top;\n",
       "    }\n",
       "\n",
       "    .dataframe thead th {\n",
       "        text-align: right;\n",
       "    }\n",
       "</style>\n",
       "<table border=\"1\" class=\"dataframe\">\n",
       "  <thead>\n",
       "    <tr style=\"text-align: right;\">\n",
       "      <th></th>\n",
       "      <th>artist</th>\n",
       "      <th>song</th>\n",
       "      <th>danceability</th>\n",
       "      <th>energy</th>\n",
       "      <th>key</th>\n",
       "      <th>loudness</th>\n",
       "      <th>mode</th>\n",
       "      <th>speechiness</th>\n",
       "      <th>acousticness</th>\n",
       "      <th>instrumentalness</th>\n",
       "      <th>liveness</th>\n",
       "      <th>valence</th>\n",
       "      <th>tempo</th>\n",
       "      <th>id</th>\n",
       "      <th>duration_ms</th>\n",
       "    </tr>\n",
       "  </thead>\n",
       "  <tbody>\n",
       "    <tr>\n",
       "      <th>0</th>\n",
       "      <td>Hozier</td>\n",
       "      <td>Take Me To Church</td>\n",
       "      <td>0.566</td>\n",
       "      <td>0.664</td>\n",
       "      <td>4</td>\n",
       "      <td>-5.303</td>\n",
       "      <td>0</td>\n",
       "      <td>0.0464</td>\n",
       "      <td>0.634</td>\n",
       "      <td>0.0</td>\n",
       "      <td>0.116</td>\n",
       "      <td>0.437</td>\n",
       "      <td>128.945</td>\n",
       "      <td>7dS5EaCoMnN7DzlpT6aRn2</td>\n",
       "      <td>241688</td>\n",
       "    </tr>\n",
       "    <tr>\n",
       "      <th>1</th>\n",
       "      <td>Mike Posner</td>\n",
       "      <td>Cooler Than Me - Single Mix</td>\n",
       "      <td>0.768</td>\n",
       "      <td>0.820</td>\n",
       "      <td>7</td>\n",
       "      <td>-4.630</td>\n",
       "      <td>0</td>\n",
       "      <td>0.0474</td>\n",
       "      <td>0.179</td>\n",
       "      <td>0.0</td>\n",
       "      <td>0.689</td>\n",
       "      <td>0.625</td>\n",
       "      <td>129.965</td>\n",
       "      <td>2V4bv1fNWfTcyRJKmej6Sj</td>\n",
       "      <td>213293</td>\n",
       "    </tr>\n",
       "  </tbody>\n",
       "</table>\n",
       "</div>"
      ],
      "text/plain": [
       "        artist                         song  danceability  energy  key  \\\n",
       "0       Hozier            Take Me To Church         0.566   0.664    4   \n",
       "1  Mike Posner  Cooler Than Me - Single Mix         0.768   0.820    7   \n",
       "\n",
       "   loudness  mode  speechiness  acousticness  instrumentalness  liveness  \\\n",
       "0    -5.303     0       0.0464         0.634               0.0     0.116   \n",
       "1    -4.630     0       0.0474         0.179               0.0     0.689   \n",
       "\n",
       "   valence    tempo                      id  duration_ms  \n",
       "0    0.437  128.945  7dS5EaCoMnN7DzlpT6aRn2       241688  \n",
       "1    0.625  129.965  2V4bv1fNWfTcyRJKmej6Sj       213293  "
      ]
     },
     "execution_count": 119,
     "metadata": {},
     "output_type": "execute_result"
    }
   ],
   "source": [
    "Finalist.head(2)"
   ]
  },
  {
   "cell_type": "code",
   "execution_count": null,
   "id": "f975f5d6",
   "metadata": {},
   "outputs": [],
   "source": []
  },
  {
   "cell_type": "code",
   "execution_count": null,
   "id": "d1147407",
   "metadata": {},
   "outputs": [],
   "source": []
  },
  {
   "cell_type": "markdown",
   "id": "aae560a5",
   "metadata": {},
   "source": [
    "# LAB 4 clustering the songs"
   ]
  },
  {
   "cell_type": "code",
   "execution_count": null,
   "id": "de77ecc4",
   "metadata": {},
   "outputs": [],
   "source": []
  },
  {
   "cell_type": "code",
   "execution_count": null,
   "id": "3087fc92",
   "metadata": {},
   "outputs": [],
   "source": []
  },
  {
   "cell_type": "code",
   "execution_count": null,
   "id": "76abff7f",
   "metadata": {},
   "outputs": [],
   "source": []
  },
  {
   "cell_type": "code",
   "execution_count": null,
   "id": "b1ba375a",
   "metadata": {},
   "outputs": [],
   "source": []
  },
  {
   "cell_type": "code",
   "execution_count": null,
   "id": "8d8c260f",
   "metadata": {},
   "outputs": [],
   "source": []
  },
  {
   "cell_type": "code",
   "execution_count": null,
   "id": "b172ef4d",
   "metadata": {},
   "outputs": [],
   "source": []
  },
  {
   "cell_type": "code",
   "execution_count": null,
   "id": "e6c31384",
   "metadata": {},
   "outputs": [],
   "source": []
  },
  {
   "cell_type": "code",
   "execution_count": null,
   "id": "7902be02",
   "metadata": {},
   "outputs": [],
   "source": []
  }
 ],
 "metadata": {
  "kernelspec": {
   "display_name": "Python 3 (ipykernel)",
   "language": "python",
   "name": "python3"
  },
  "language_info": {
   "codemirror_mode": {
    "name": "ipython",
    "version": 3
   },
   "file_extension": ".py",
   "mimetype": "text/x-python",
   "name": "python",
   "nbconvert_exporter": "python",
   "pygments_lexer": "ipython3",
   "version": "3.9.13"
  }
 },
 "nbformat": 4,
 "nbformat_minor": 5
}
